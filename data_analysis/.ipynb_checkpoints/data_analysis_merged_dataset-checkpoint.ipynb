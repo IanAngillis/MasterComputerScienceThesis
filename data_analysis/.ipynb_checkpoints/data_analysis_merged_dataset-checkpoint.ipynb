{
 "cells": [
  {
   "cell_type": "markdown",
   "id": "48bab757",
   "metadata": {},
   "source": [
    "This notebook contains the data analysis for RQ3"
   ]
  },
  {
   "cell_type": "code",
   "execution_count": 13,
   "id": "c0a860d7",
   "metadata": {},
   "outputs": [],
   "source": [
    "#Configuration\n",
    "\n",
    "#Importing libraries\n",
    "import json\n",
    "import functools\n",
    "import matplotlib.pyplot as plt\n",
    "import seaborn as sns\n",
    "import copy\n",
    "import pandas as pd\n",
    "\n",
    "# Setting color palette for sns\n",
    "colors = sns.color_palette()\n",
    "\n",
    "smellyFiles=\"smellyFiles\"\n",
    "totalSmellsPresent=\"totalSmellsPresent\"\n",
    "smellsPerFile=\"smellsPerFile\"\n",
    "\n",
    "currentFile = \"merged_v1_run.json\"\n",
    "\n",
    "# Reading and transforming the file to a JSON dict\n",
    "f = open(currentFile)\n",
    "data = json.load(f)\n",
    "data[totalSmellsPresent].sort(key=lambda x: x[\"times\"], reverse=True)\n",
    "data[smellyFiles].sort(key=lambda x: x[\"times\"], reverse=True)"
   ]
  },
  {
   "cell_type": "code",
   "execution_count": 15,
   "id": "835ddec5",
   "metadata": {},
   "outputs": [
    {
     "name": "stdout",
     "output_type": "stream",
     "text": [
      "Total amount of smells:  2491813\n",
      "Files with smells:  205199\n",
      "Files without smells:  118148\n",
      "Total amount of files:  323347\n",
      "These numbers are consistent with the data\n"
     ]
    }
   ],
   "source": [
    "# Calculate total amount of smells detected\n",
    "total_amount_of_smells_detected = sum(map(lambda a: a[\"times\"], data[totalSmellsPresent]))\n",
    "print(\"Total amount of smells: \", total_amount_of_smells_detected)\n",
    "\n",
    "# Calculate files with smells and files without smells (and numbers)\n",
    "files_with_smells = list(filter(lambda x:len(x[\"smells\"]) > 0, data[smellsPerFile]))\n",
    "print(\"Files with smells: \", len(files_with_smells))\n",
    "\n",
    "files_without_smells = list(filter(lambda x:len(x[\"smells\"]) == 0, data[smellsPerFile]))\n",
    "print(\"Files without smells: \", len(files_without_smells))\n",
    "\n",
    "total_files = len(files_with_smells) + len(files_without_smells)\n",
    "real_total_files = len(data[smellsPerFile])\n",
    "\n",
    "print(\"Total amount of files: \", real_total_files)\n",
    "\n",
    "if(total_files == real_total_files):\n",
    "    print(\"These numbers are consistent with the data\")\n",
    "else:\n",
    "    print(\"These numbers are inconsistent with the data\")"
   ]
  },
  {
   "cell_type": "code",
   "execution_count": 17,
   "id": "126d694b",
   "metadata": {},
   "outputs": [
    {
     "name": "stdout",
     "output_type": "stream",
     "text": [
      "Smell proportions table:\n",
      "     Smell  # Detections  Proportion (%)\n",
      "0   DL3008       1012020        0.406138\n",
      "1   DL3018        271522        0.108966\n",
      "2   DL9011        187811        0.075371\n",
      "3   DL3009        187811        0.075371\n",
      "4   DL3015        162548        0.065233\n",
      "5   DL3059        122396        0.049119\n",
      "6   DL3013         71379        0.028645\n",
      "7   DL9005         63992        0.025681\n",
      "8   DL9001         53464        0.021456\n",
      "9   DL3042         52424        0.021038\n",
      "10  DL3033         48090        0.019299\n",
      "11  DL9008         28122        0.011286\n",
      "12  DL9002         24824        0.009962\n",
      "13  DL9018         23300        0.009351\n",
      "14  DL3019         21062        0.008452\n",
      "15  DL9004         20172        0.008095\n",
      "16  DL9012         20024        0.008036\n",
      "17  DL9009         17023        0.006832\n",
      "18  DL3016         16830        0.006754\n",
      "19  DL3041         16060        0.006445\n",
      "20  DL3032         14710        0.005903\n",
      "21  DL9020         10315        0.004140\n",
      "22  DL9006          9453        0.003794\n",
      "23  DL3014          7053        0.002830\n",
      "24  DL3037          6162        0.002473\n",
      "25  DL9000          4458        0.001789\n",
      "26  DL3060          4213        0.001691\n",
      "27  DL9010          3555        0.001427\n",
      "28  DL3040          2432        0.000976\n",
      "29  DL9014          2177        0.000874\n",
      "30  DL9015          1708        0.000685\n",
      "31  DL9013          1046        0.000420\n",
      "32  DL9007           682        0.000274\n",
      "33  DL3036           659        0.000264\n",
      "34  DL3034           549        0.000220\n",
      "35  DL9016           480        0.000193\n",
      "36  DL3010           455        0.000183\n",
      "37  DL9003           330        0.000132\n",
      "38  DL9017           275        0.000110\n",
      "39  DL9019           180        0.000072\n",
      "40  DL3030            36        0.000014\n",
      "41  DL3038            11        0.000004\n"
     ]
    }
   ],
   "source": [
    "# Smell detection proportion dataframe\n",
    "smell_proportion_df = pd.DataFrame({\n",
    "    'Smell': list(map(lambda x: x[\"rule\"], data[totalSmellsPresent])),\n",
    "    '# Detections': list(map(lambda x: x[\"times\"], data[totalSmellsPresent])),\n",
    "    'Proportion (%)': list(map(lambda x: x[\"times\"] / total_amount_of_smells_detected, data[totalSmellsPresent]))})\n",
    "\n",
    "print(\"Smell proportions table:\")\n",
    "print(smell_proportion_df)"
   ]
  },
  {
   "cell_type": "code",
   "execution_count": 18,
   "id": "38c154cc",
   "metadata": {},
   "outputs": [
    {
     "name": "stdout",
     "output_type": "stream",
     "text": [
      "File proportions table:\n",
      "     Smell  # Files  Proportion (%)\n",
      "0   DL3008   102805        0.317940\n",
      "1   DL9011    88203        0.272781\n",
      "2   DL3015    74133        0.229268\n",
      "3   DL3018    45859        0.141826\n",
      "4   DL3059    36745        0.113640\n",
      "5   DL9005    35086        0.108509\n",
      "6   DL3042    29883        0.092418\n",
      "7   DL3013    22287        0.068926\n",
      "8   DL9008    21590        0.066770\n",
      "9   DL9018    16392        0.050695\n",
      "10  DL3019    16047        0.049628\n",
      "11  DL9004    11511        0.035600\n",
      "12  DL3033    10108        0.031261\n",
      "13  DL3016    10042        0.031056\n",
      "14  DL9009     9858        0.030487\n",
      "15  DL9002     8213        0.025400\n",
      "16  DL9020     7336        0.022688\n",
      "17  DL9001     7059        0.021831\n",
      "18  DL3032     7033        0.021751\n",
      "19  DL9012     6724        0.020795\n",
      "20  DL9006     6441        0.019920\n",
      "21  DL3014     4756        0.014709\n",
      "22  DL9000     4274        0.013218\n",
      "23  DL3060     3695        0.011427\n",
      "24  DL3041     3321        0.010271\n",
      "25  DL9010     1830        0.005660\n",
      "26  DL9014     1715        0.005304\n",
      "27  DL3040     1397        0.004320\n",
      "28  DL9015     1268        0.003921\n",
      "29  DL9013      902        0.002790\n",
      "30  DL3037      427        0.001321\n",
      "31  DL9016      401        0.001240\n",
      "32  DL9007      389        0.001203\n",
      "33  DL3010      377        0.001166\n",
      "34  DL3036      355        0.001098\n",
      "35  DL3034      313        0.000968\n",
      "36  DL9003      299        0.000925\n",
      "37  DL9017      229        0.000708\n",
      "38  DL9019      139        0.000430\n",
      "39  DL3030       31        0.000096\n",
      "40  DL3038       10        0.000031\n"
     ]
    }
   ],
   "source": [
    "# Smell detection files dataframe\n",
    "file_proportion_df = pd.DataFrame({\n",
    "    'Smell': list(map(lambda x: x[\"rule\"], data[smellyFiles])),\n",
    "    '# Files': list(map(lambda x: x[\"times\"], data[smellyFiles])),\n",
    "    'Proportion (%)': list(map(lambda x: x[\"times\"] / real_total_files, data[smellyFiles]))})\n",
    "\n",
    "print(\"File proportions table:\")\n",
    "print(file_proportion_df)"
   ]
  },
  {
   "cell_type": "code",
   "execution_count": null,
   "id": "98f248e9",
   "metadata": {},
   "outputs": [],
   "source": []
  }
 ],
 "metadata": {
  "kernelspec": {
   "display_name": "Python 3 (ipykernel)",
   "language": "python",
   "name": "python3"
  },
  "language_info": {
   "codemirror_mode": {
    "name": "ipython",
    "version": 3
   },
   "file_extension": ".py",
   "mimetype": "text/x-python",
   "name": "python",
   "nbconvert_exporter": "python",
   "pygments_lexer": "ipython3",
   "version": "3.9.13"
  }
 },
 "nbformat": 4,
 "nbformat_minor": 5
}
