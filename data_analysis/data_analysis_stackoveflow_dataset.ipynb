{
 "cells": [
  {
   "cell_type": "markdown",
   "id": "d6474bfc",
   "metadata": {},
   "source": [
    "This notebook contains the data analysis for RQ3"
   ]
  },
  {
   "cell_type": "code",
   "execution_count": 1,
   "id": "e82e48c0",
   "metadata": {},
   "outputs": [],
   "source": [
    "#Configuration\n",
    "\n",
    "#Importing libraries\n",
    "import json\n",
    "import functools\n",
    "import matplotlib.pyplot as plt\n",
    "import seaborn as sns\n",
    "import copy\n",
    "import pandas as pd\n",
    "\n",
    "# Setting color palette for sns\n",
    "colors = sns.color_palette()\n",
    "\n",
    "smellyFiles=\"smellyFiles\"\n",
    "totalSmellsPresent=\"totalSmellsPresent\"\n",
    "smellsPerFile=\"smellsPerFile\"\n",
    "\n",
    "currentFile = \"sf_v1_run.json\"\n",
    "\n",
    "# Reading and transforming the file to a JSON dict\n",
    "f = open(currentFile)\n",
    "data = json.load(f)\n",
    "data[totalSmellsPresent].sort(key=lambda x: x[\"times\"], reverse=True)\n",
    "data[smellyFiles].sort(key=lambda x: x[\"times\"], reverse=True)"
   ]
  },
  {
   "cell_type": "code",
   "execution_count": 2,
   "id": "b568bb1b",
   "metadata": {},
   "outputs": [
    {
     "name": "stdout",
     "output_type": "stream",
     "text": [
      "Total amount of smells:  57560\n",
      "Files with smells:  7858\n",
      "Files without smells:  17023\n",
      "Total amount of files:  24881\n",
      "These numbers are consistent with the data\n"
     ]
    }
   ],
   "source": [
    "# Calculate total amount of smells detected\n",
    "total_amount_of_smells_detected = sum(map(lambda a: a[\"times\"], data[totalSmellsPresent]))\n",
    "print(\"Total amount of smells: \", total_amount_of_smells_detected)\n",
    "\n",
    "# Calculate files with smells and files without smells (and numbers)\n",
    "files_with_smells = list(filter(lambda x:len(x[\"smells\"]) > 0, data[smellsPerFile]))\n",
    "print(\"Files with smells: \", len(files_with_smells))\n",
    "\n",
    "files_without_smells = list(filter(lambda x:len(x[\"smells\"]) == 0, data[smellsPerFile]))\n",
    "print(\"Files without smells: \", len(files_without_smells))\n",
    "\n",
    "total_files = len(files_with_smells) + len(files_without_smells)\n",
    "real_total_files = len(data[smellsPerFile])\n",
    "\n",
    "print(\"Total amount of files: \", real_total_files)\n",
    "\n",
    "if(total_files == real_total_files):\n",
    "    print(\"These numbers are consistent with the data\")\n",
    "else:\n",
    "    print(\"These numbers are inconsistent with the data\")"
   ]
  },
  {
   "cell_type": "code",
   "execution_count": 3,
   "id": "274a989f",
   "metadata": {},
   "outputs": [
    {
     "name": "stdout",
     "output_type": "stream",
     "text": [
      "Smell proportions table:\n",
      "     Smell  # Detections  Proportion (%)\n",
      "0   DL3008         15078        0.261953\n",
      "1   DL3018          5206        0.090445\n",
      "2   DL9011          5082        0.088290\n",
      "3   DL3009          5082        0.088290\n",
      "4   DL3015          4993        0.086744\n",
      "5   DL3059          4919        0.085459\n",
      "6   DL9005          2367        0.041122\n",
      "7   DL3042          2141        0.037196\n",
      "8   DL9008          2018        0.035059\n",
      "9   DL3013          1536        0.026685\n",
      "10  DL9012           896        0.015566\n",
      "11  DL9001           864        0.015010\n",
      "12  DL3019           862        0.014976\n",
      "13  DL3033           843        0.014646\n",
      "14  DL3016           727        0.012630\n",
      "15  DL9004           686        0.011918\n",
      "16  DL3032           649        0.011275\n",
      "17  DL9020           638        0.011084\n",
      "18  DL9009           617        0.010719\n",
      "19  DL9002           589        0.010233\n",
      "20  DL9006           437        0.007592\n",
      "21  DL3014           345        0.005994\n",
      "22  DL9000           315        0.005473\n",
      "23  DL3060           184        0.003197\n",
      "24  DL9018           152        0.002641\n",
      "25  DL3041            65        0.001129\n",
      "26  DL9014            61        0.001060\n",
      "27  DL9010            47        0.000817\n",
      "28  DL9003            42        0.000730\n",
      "29  DL9015            33        0.000573\n",
      "30  DL3030            29        0.000504\n",
      "31  DL3010            14        0.000243\n",
      "32  DL9013            10        0.000174\n",
      "33  DL3040            10        0.000174\n",
      "34  DL9016             9        0.000156\n",
      "35  DL9017             6        0.000104\n",
      "36  DL3037             3        0.000052\n",
      "37  DL9007             3        0.000052\n",
      "38  DL9019             2        0.000035\n"
     ]
    }
   ],
   "source": [
    "# Smell detection proportion dataframe\n",
    "smell_proportion_df = pd.DataFrame({\n",
    "    'Smell': list(map(lambda x: x[\"rule\"], data[totalSmellsPresent])),\n",
    "    '# Detections': list(map(lambda x: x[\"times\"], data[totalSmellsPresent])),\n",
    "    'Proportion (%)': list(map(lambda x: x[\"times\"] / total_amount_of_smells_detected, data[totalSmellsPresent]))})\n",
    "\n",
    "print(\"Smell proportions table:\")\n",
    "print(smell_proportion_df)"
   ]
  },
  {
   "cell_type": "code",
   "execution_count": 4,
   "id": "0458b71d",
   "metadata": {},
   "outputs": [
    {
     "name": "stdout",
     "output_type": "stream",
     "text": [
      "File proportions table:\n",
      "     Smell  # Files  Proportion (%)\n",
      "0   DL3008     3128        0.125718\n",
      "1   DL9011     3003        0.120695\n",
      "2   DL3015     2910        0.116957\n",
      "3   DL3059     1848        0.074274\n",
      "4   DL9005     1610        0.064708\n",
      "5   DL9008     1588        0.063824\n",
      "6   DL3042     1470        0.059081\n",
      "7   DL3018     1128        0.045336\n",
      "8   DL3013      744        0.029902\n",
      "9   DL3019      621        0.024959\n",
      "10  DL3016      460        0.018488\n",
      "11  DL9020      448        0.018006\n",
      "12  DL9004      437        0.017564\n",
      "13  DL9009      398        0.015996\n",
      "14  DL9000      302        0.012138\n",
      "15  DL3032      297        0.011937\n",
      "16  DL9012      288        0.011575\n",
      "17  DL9001      284        0.011414\n",
      "18  DL3014      284        0.011414\n",
      "19  DL9006      282        0.011334\n",
      "20  DL3033      271        0.010892\n",
      "21  DL9002      253        0.010168\n",
      "22  DL3060      174        0.006993\n",
      "23  DL9018      136        0.005466\n",
      "24  DL9014       50        0.002010\n",
      "25  DL9003       41        0.001648\n",
      "26  DL9010       35        0.001407\n",
      "27  DL9015       31        0.001246\n",
      "28  DL3030       25        0.001005\n",
      "29  DL3010       14        0.000563\n",
      "30  DL3041       11        0.000442\n",
      "31  DL9013       10        0.000402\n",
      "32  DL3040        7        0.000281\n",
      "33  DL9016        7        0.000281\n",
      "34  DL9017        6        0.000241\n",
      "35  DL9019        2        0.000080\n",
      "36  DL3037        1        0.000040\n",
      "37  DL9007        1        0.000040\n"
     ]
    }
   ],
   "source": [
    "# Smell detection files dataframe\n",
    "file_proportion_df = pd.DataFrame({\n",
    "    'Smell': list(map(lambda x: x[\"rule\"], data[smellyFiles])),\n",
    "    '# Files': list(map(lambda x: x[\"times\"], data[smellyFiles])),\n",
    "    'Proportion (%)': list(map(lambda x: x[\"times\"] / real_total_files, data[smellyFiles]))})\n",
    "\n",
    "print(\"File proportions table:\")\n",
    "print(file_proportion_df)"
   ]
  },
  {
   "cell_type": "code",
   "execution_count": 5,
   "id": "9955a85f",
   "metadata": {},
   "outputs": [
    {
     "name": "stdout",
     "output_type": "stream",
     "text": [
      "Proportion DL9000:  0.18051404662283324\n"
     ]
    }
   ],
   "source": [
    "# Layer optimization proportion in relevant npm files\n",
    "total_files_with_npm_install = 1673\n",
    "total_detections_npm_in_files = file_proportion_df.loc[file_proportion_df['Smell'] == 'DL9000'].iloc[0, 1]\n",
    "\n",
    "proportion_npm_DL9000 = total_detections_npm_in_files / total_files_with_npm_install\n",
    "print(\"Proportion DL9000: \", proportion_npm_DL9000)"
   ]
  },
  {
   "cell_type": "code",
   "execution_count": 6,
   "id": "b314afd9",
   "metadata": {},
   "outputs": [
    {
     "name": "stdout",
     "output_type": "stream",
     "text": [
      "Proportion DL9020:  0.4125230202578269\n"
     ]
    }
   ],
   "source": [
    "# Layer optimization proportion in relevant python files\n",
    "files_with_pip_install = 876\n",
    "files_with_pip3_install = 210\n",
    "total_files_pip_install = files_with_pip_install + files_with_pip3_install\n",
    "total_detections_pip_in_files = file_proportion_df.loc[file_proportion_df['Smell'] == 'DL9020'].iloc[0, 1]\n",
    "\n",
    "proportion_npm_DL9020 = total_detections_pip_in_files / total_files_pip_install\n",
    "print(\"Proportion DL9020: \", proportion_npm_DL9020)"
   ]
  },
  {
   "cell_type": "code",
   "execution_count": null,
   "id": "bb274a97",
   "metadata": {},
   "outputs": [],
   "source": []
  }
 ],
 "metadata": {
  "kernelspec": {
   "display_name": "Python 3 (ipykernel)",
   "language": "python",
   "name": "python3"
  },
  "language_info": {
   "codemirror_mode": {
    "name": "ipython",
    "version": 3
   },
   "file_extension": ".py",
   "mimetype": "text/x-python",
   "name": "python",
   "nbconvert_exporter": "python",
   "pygments_lexer": "ipython3",
   "version": "3.9.13"
  }
 },
 "nbformat": 4,
 "nbformat_minor": 5
}
